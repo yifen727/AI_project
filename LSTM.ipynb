{
  "cells": [
    {
      "cell_type": "code",
      "execution_count": 1,
      "id": "2a4fdd0f",
      "metadata": {
        "colab": {
          "base_uri": "https://localhost:8080/",
          "height": 373
        },
        "id": "2a4fdd0f",
        "outputId": "199242f8-13db-4b3e-bc6c-3f2604051b94"
      },
      "outputs": [
        {
          "data": {
            "text/html": [
              "<div>\n",
              "<style scoped>\n",
              "    .dataframe tbody tr th:only-of-type {\n",
              "        vertical-align: middle;\n",
              "    }\n",
              "\n",
              "    .dataframe tbody tr th {\n",
              "        vertical-align: top;\n",
              "    }\n",
              "\n",
              "    .dataframe thead th {\n",
              "        text-align: right;\n",
              "    }\n",
              "</style>\n",
              "<table border=\"1\" class=\"dataframe\">\n",
              "  <thead>\n",
              "    <tr style=\"text-align: right;\">\n",
              "      <th></th>\n",
              "      <th>Date</th>\n",
              "      <th>Adj Close Reconstructed</th>\n",
              "      <th>Close Reconstructed</th>\n",
              "      <th>High Reconstructed</th>\n",
              "      <th>Low Reconstructed</th>\n",
              "      <th>Open Reconstructed</th>\n",
              "      <th>Volume Reconstructed</th>\n",
              "    </tr>\n",
              "  </thead>\n",
              "  <tbody>\n",
              "    <tr>\n",
              "      <th>0</th>\n",
              "      <td>2023-12-01</td>\n",
              "      <td>25.605252</td>\n",
              "      <td>25.998476</td>\n",
              "      <td>26.003460</td>\n",
              "      <td>25.769923</td>\n",
              "      <td>25.913437</td>\n",
              "      <td>5.341702e+07</td>\n",
              "    </tr>\n",
              "    <tr>\n",
              "      <th>1</th>\n",
              "      <td>2023-12-04</td>\n",
              "      <td>25.604250</td>\n",
              "      <td>25.998292</td>\n",
              "      <td>26.003692</td>\n",
              "      <td>25.726025</td>\n",
              "      <td>25.912889</td>\n",
              "      <td>4.558319e+07</td>\n",
              "    </tr>\n",
              "    <tr>\n",
              "      <th>2</th>\n",
              "      <td>2023-12-05</td>\n",
              "      <td>25.647378</td>\n",
              "      <td>26.042370</td>\n",
              "      <td>26.048063</td>\n",
              "      <td>25.755233</td>\n",
              "      <td>25.918767</td>\n",
              "      <td>3.737264e+07</td>\n",
              "    </tr>\n",
              "    <tr>\n",
              "      <th>3</th>\n",
              "      <td>2023-12-06</td>\n",
              "      <td>25.737278</td>\n",
              "      <td>26.133323</td>\n",
              "      <td>26.141060</td>\n",
              "      <td>25.866490</td>\n",
              "      <td>25.974636</td>\n",
              "      <td>2.797251e+07</td>\n",
              "    </tr>\n",
              "    <tr>\n",
              "      <th>4</th>\n",
              "      <td>2023-12-07</td>\n",
              "      <td>25.640272</td>\n",
              "      <td>26.034362</td>\n",
              "      <td>26.182587</td>\n",
              "      <td>25.900512</td>\n",
              "      <td>26.034967</td>\n",
              "      <td>2.262090e+07</td>\n",
              "    </tr>\n",
              "  </tbody>\n",
              "</table>\n",
              "</div>"
            ],
            "text/plain": [
              "         Date  Adj Close Reconstructed  Close Reconstructed  \\\n",
              "0  2023-12-01                25.605252            25.998476   \n",
              "1  2023-12-04                25.604250            25.998292   \n",
              "2  2023-12-05                25.647378            26.042370   \n",
              "3  2023-12-06                25.737278            26.133323   \n",
              "4  2023-12-07                25.640272            26.034362   \n",
              "\n",
              "   High Reconstructed  Low Reconstructed  Open Reconstructed  \\\n",
              "0           26.003460          25.769923           25.913437   \n",
              "1           26.003692          25.726025           25.912889   \n",
              "2           26.048063          25.755233           25.918767   \n",
              "3           26.141060          25.866490           25.974636   \n",
              "4           26.182587          25.900512           26.034967   \n",
              "\n",
              "   Volume Reconstructed  \n",
              "0          5.341702e+07  \n",
              "1          4.558319e+07  \n",
              "2          3.737264e+07  \n",
              "3          2.797251e+07  \n",
              "4          2.262090e+07  "
            ]
          },
          "execution_count": 1,
          "metadata": {},
          "output_type": "execute_result"
        }
      ],
      "source": [
        "import pandas as pd\n",
        "import numpy as np\n",
        "import matplotlib.pyplot as plt\n",
        "\n",
        "import torch\n",
        "import torch.nn as nn\n",
        "\n",
        "data_wavlet = pd.read_csv('china_steel_wavelet_reconstructed_only.csv')\n",
        "data_unadujsted = pd.read_csv('china_steel_stock_data_cleaned.csv')\n",
        "data_wavlet.head()"
      ]
    },
    {
      "cell_type": "code",
      "execution_count": 106,
      "id": "c9425bc7",
      "metadata": {},
      "outputs": [
        {
          "data": {
            "text/html": [
              "<div>\n",
              "<style scoped>\n",
              "    .dataframe tbody tr th:only-of-type {\n",
              "        vertical-align: middle;\n",
              "    }\n",
              "\n",
              "    .dataframe tbody tr th {\n",
              "        vertical-align: top;\n",
              "    }\n",
              "\n",
              "    .dataframe thead th {\n",
              "        text-align: right;\n",
              "    }\n",
              "</style>\n",
              "<table border=\"1\" class=\"dataframe\">\n",
              "  <thead>\n",
              "    <tr style=\"text-align: right;\">\n",
              "      <th></th>\n",
              "      <th>Date</th>\n",
              "      <th>Adj Close</th>\n",
              "      <th>Close</th>\n",
              "      <th>High</th>\n",
              "      <th>Low</th>\n",
              "      <th>Open</th>\n",
              "      <th>Volume</th>\n",
              "    </tr>\n",
              "  </thead>\n",
              "  <tbody>\n",
              "    <tr>\n",
              "      <th>241</th>\n",
              "      <td>2024-12-02</td>\n",
              "      <td>21.200001</td>\n",
              "      <td>21.200001</td>\n",
              "      <td>21.450001</td>\n",
              "      <td>21.200001</td>\n",
              "      <td>21.200001</td>\n",
              "      <td>14963847.0</td>\n",
              "    </tr>\n",
              "    <tr>\n",
              "      <th>242</th>\n",
              "      <td>2024-12-03</td>\n",
              "      <td>21.549999</td>\n",
              "      <td>21.549999</td>\n",
              "      <td>21.549999</td>\n",
              "      <td>21.250000</td>\n",
              "      <td>21.299999</td>\n",
              "      <td>15231884.0</td>\n",
              "    </tr>\n",
              "    <tr>\n",
              "      <th>243</th>\n",
              "      <td>2024-12-04</td>\n",
              "      <td>21.650000</td>\n",
              "      <td>21.650000</td>\n",
              "      <td>21.650000</td>\n",
              "      <td>21.400000</td>\n",
              "      <td>21.549999</td>\n",
              "      <td>13481864.0</td>\n",
              "    </tr>\n",
              "    <tr>\n",
              "      <th>244</th>\n",
              "      <td>2024-12-05</td>\n",
              "      <td>21.200001</td>\n",
              "      <td>21.200001</td>\n",
              "      <td>21.650000</td>\n",
              "      <td>21.200001</td>\n",
              "      <td>21.650000</td>\n",
              "      <td>12928639.0</td>\n",
              "    </tr>\n",
              "    <tr>\n",
              "      <th>245</th>\n",
              "      <td>2024-12-06</td>\n",
              "      <td>21.150000</td>\n",
              "      <td>21.150000</td>\n",
              "      <td>21.350000</td>\n",
              "      <td>21.100000</td>\n",
              "      <td>21.350000</td>\n",
              "      <td>11656615.0</td>\n",
              "    </tr>\n",
              "  </tbody>\n",
              "</table>\n",
              "</div>"
            ],
            "text/plain": [
              "           Date  Adj Close      Close       High        Low       Open  \\\n",
              "241  2024-12-02  21.200001  21.200001  21.450001  21.200001  21.200001   \n",
              "242  2024-12-03  21.549999  21.549999  21.549999  21.250000  21.299999   \n",
              "243  2024-12-04  21.650000  21.650000  21.650000  21.400000  21.549999   \n",
              "244  2024-12-05  21.200001  21.200001  21.650000  21.200001  21.650000   \n",
              "245  2024-12-06  21.150000  21.150000  21.350000  21.100000  21.350000   \n",
              "\n",
              "         Volume  \n",
              "241  14963847.0  \n",
              "242  15231884.0  \n",
              "243  13481864.0  \n",
              "244  12928639.0  \n",
              "245  11656615.0  "
            ]
          },
          "execution_count": 106,
          "metadata": {},
          "output_type": "execute_result"
        }
      ],
      "source": [
        "data_unadujsted.tail()"
      ]
    },
    {
      "cell_type": "code",
      "execution_count": 139,
      "id": "400859dd",
      "metadata": {},
      "outputs": [],
      "source": [
        "data = data_unadujsted"
      ]
    },
    {
      "cell_type": "code",
      "execution_count": 140,
      "id": "146db3b2",
      "metadata": {},
      "outputs": [],
      "source": [
        "data.rename(columns={'Close Reconstructed': 'Close'}, inplace=True)"
      ]
    },
    {
      "cell_type": "code",
      "execution_count": 141,
      "id": "WtCP8-cDbg9R",
      "metadata": {
        "colab": {
          "base_uri": "https://localhost:8080/",
          "height": 423
        },
        "id": "WtCP8-cDbg9R",
        "outputId": "1a923823-8c15-4765-c9c9-19a233dc8131"
      },
      "outputs": [
        {
          "data": {
            "text/html": [
              "<div>\n",
              "<style scoped>\n",
              "    .dataframe tbody tr th:only-of-type {\n",
              "        vertical-align: middle;\n",
              "    }\n",
              "\n",
              "    .dataframe tbody tr th {\n",
              "        vertical-align: top;\n",
              "    }\n",
              "\n",
              "    .dataframe thead th {\n",
              "        text-align: right;\n",
              "    }\n",
              "</style>\n",
              "<table border=\"1\" class=\"dataframe\">\n",
              "  <thead>\n",
              "    <tr style=\"text-align: right;\">\n",
              "      <th></th>\n",
              "      <th>Date</th>\n",
              "      <th>Close</th>\n",
              "    </tr>\n",
              "  </thead>\n",
              "  <tbody>\n",
              "    <tr>\n",
              "      <th>0</th>\n",
              "      <td>2023-12-01</td>\n",
              "      <td>26.000000</td>\n",
              "    </tr>\n",
              "    <tr>\n",
              "      <th>1</th>\n",
              "      <td>2023-12-04</td>\n",
              "      <td>26.049999</td>\n",
              "    </tr>\n",
              "    <tr>\n",
              "      <th>2</th>\n",
              "      <td>2023-12-05</td>\n",
              "      <td>26.100000</td>\n",
              "    </tr>\n",
              "    <tr>\n",
              "      <th>3</th>\n",
              "      <td>2023-12-06</td>\n",
              "      <td>26.250000</td>\n",
              "    </tr>\n",
              "    <tr>\n",
              "      <th>4</th>\n",
              "      <td>2023-12-07</td>\n",
              "      <td>26.049999</td>\n",
              "    </tr>\n",
              "    <tr>\n",
              "      <th>...</th>\n",
              "      <td>...</td>\n",
              "      <td>...</td>\n",
              "    </tr>\n",
              "    <tr>\n",
              "      <th>241</th>\n",
              "      <td>2024-12-02</td>\n",
              "      <td>21.200001</td>\n",
              "    </tr>\n",
              "    <tr>\n",
              "      <th>242</th>\n",
              "      <td>2024-12-03</td>\n",
              "      <td>21.549999</td>\n",
              "    </tr>\n",
              "    <tr>\n",
              "      <th>243</th>\n",
              "      <td>2024-12-04</td>\n",
              "      <td>21.650000</td>\n",
              "    </tr>\n",
              "    <tr>\n",
              "      <th>244</th>\n",
              "      <td>2024-12-05</td>\n",
              "      <td>21.200001</td>\n",
              "    </tr>\n",
              "    <tr>\n",
              "      <th>245</th>\n",
              "      <td>2024-12-06</td>\n",
              "      <td>21.150000</td>\n",
              "    </tr>\n",
              "  </tbody>\n",
              "</table>\n",
              "<p>246 rows × 2 columns</p>\n",
              "</div>"
            ],
            "text/plain": [
              "           Date      Close\n",
              "0    2023-12-01  26.000000\n",
              "1    2023-12-04  26.049999\n",
              "2    2023-12-05  26.100000\n",
              "3    2023-12-06  26.250000\n",
              "4    2023-12-07  26.049999\n",
              "..          ...        ...\n",
              "241  2024-12-02  21.200001\n",
              "242  2024-12-03  21.549999\n",
              "243  2024-12-04  21.650000\n",
              "244  2024-12-05  21.200001\n",
              "245  2024-12-06  21.150000\n",
              "\n",
              "[246 rows x 2 columns]"
            ]
          },
          "execution_count": 141,
          "metadata": {},
          "output_type": "execute_result"
        }
      ],
      "source": [
        "data = data[['Date', 'Close']]\n",
        "data"
      ]
    },
    {
      "cell_type": "code",
      "execution_count": 142,
      "id": "9akB333XcFJ6",
      "metadata": {
        "colab": {
          "base_uri": "https://localhost:8080/",
          "height": 36
        },
        "id": "9akB333XcFJ6",
        "outputId": "2e8630de-1369-4281-d87c-9634ed90ba97"
      },
      "outputs": [
        {
          "data": {
            "text/plain": [
              "'cuda:0'"
            ]
          },
          "execution_count": 142,
          "metadata": {},
          "output_type": "execute_result"
        }
      ],
      "source": [
        "device = 'cuda:0' if torch.cuda.is_available() else 'cpu'\n",
        "device"
      ]
    },
    {
      "cell_type": "code",
      "execution_count": 143,
      "id": "tr2YuqKGcXcJ",
      "metadata": {
        "colab": {
          "base_uri": "https://localhost:8080/",
          "height": 551
        },
        "id": "tr2YuqKGcXcJ",
        "outputId": "bd197a93-bf7f-413c-fac0-5f4dc1a8471d"
      },
      "outputs": [
        {
          "name": "stderr",
          "output_type": "stream",
          "text": [
            "/tmp/ipykernel_334775/1819287010.py:1: SettingWithCopyWarning: \n",
            "A value is trying to be set on a copy of a slice from a DataFrame.\n",
            "Try using .loc[row_indexer,col_indexer] = value instead\n",
            "\n",
            "See the caveats in the documentation: https://pandas.pydata.org/pandas-docs/stable/user_guide/indexing.html#returning-a-view-versus-a-copy\n",
            "  data['Date'] = pd.to_datetime(data['Date'])\n"
          ]
        },
        {
          "data": {
            "text/plain": [
              "[<matplotlib.lines.Line2D at 0x7f20183b7d90>]"
            ]
          },
          "execution_count": 143,
          "metadata": {},
          "output_type": "execute_result"
        },
        {
          "data": {
            "image/png": "[encoded data removed]",
            "text/plain": [
              "<Figure size 640x480 with 1 Axes>"
            ]
          },
          "metadata": {},
          "output_type": "display_data"
        }
      ],
      "source": [
        "data['Date'] = pd.to_datetime(data['Date'])\n",
        "\n",
        "plt.plot(data['Date'], data['Close'])"
      ]
    },
    {
      "cell_type": "code",
      "execution_count": 144,
      "id": "Q4ma6QCscwfB",
      "metadata": {
        "colab": {
          "base_uri": "https://localhost:8080/",
          "height": 455
        },
        "id": "Q4ma6QCscwfB",
        "outputId": "61bd4c08-c3f7-453d-ed92-c2232a18a5ba"
      },
      "outputs": [
        {
          "data": {
            "text/html": [
              "<div>\n",
              "<style scoped>\n",
              "    .dataframe tbody tr th:only-of-type {\n",
              "        vertical-align: middle;\n",
              "    }\n",
              "\n",
              "    .dataframe tbody tr th {\n",
              "        vertical-align: top;\n",
              "    }\n",
              "\n",
              "    .dataframe thead th {\n",
              "        text-align: right;\n",
              "    }\n",
              "</style>\n",
              "<table border=\"1\" class=\"dataframe\">\n",
              "  <thead>\n",
              "    <tr style=\"text-align: right;\">\n",
              "      <th></th>\n",
              "      <th>Close</th>\n",
              "      <th>Close(t-1)</th>\n",
              "      <th>Close(t-2)</th>\n",
              "      <th>Close(t-3)</th>\n",
              "      <th>Close(t-4)</th>\n",
              "      <th>Close(t-5)</th>\n",
              "      <th>Close(t-6)</th>\n",
              "      <th>Close(t-7)</th>\n",
              "    </tr>\n",
              "    <tr>\n",
              "      <th>Date</th>\n",
              "      <th></th>\n",
              "      <th></th>\n",
              "      <th></th>\n",
              "      <th></th>\n",
              "      <th></th>\n",
              "      <th></th>\n",
              "      <th></th>\n",
              "      <th></th>\n",
              "    </tr>\n",
              "  </thead>\n",
              "  <tbody>\n",
              "    <tr>\n",
              "      <th>2023-12-12</th>\n",
              "      <td>25.450001</td>\n",
              "      <td>25.700001</td>\n",
              "      <td>26.100000</td>\n",
              "      <td>26.049999</td>\n",
              "      <td>26.250000</td>\n",
              "      <td>26.100000</td>\n",
              "      <td>26.049999</td>\n",
              "      <td>26.000000</td>\n",
              "    </tr>\n",
              "    <tr>\n",
              "      <th>2023-12-13</th>\n",
              "      <td>25.150000</td>\n",
              "      <td>25.450001</td>\n",
              "      <td>25.700001</td>\n",
              "      <td>26.100000</td>\n",
              "      <td>26.049999</td>\n",
              "      <td>26.250000</td>\n",
              "      <td>26.100000</td>\n",
              "      <td>26.049999</td>\n",
              "    </tr>\n",
              "    <tr>\n",
              "      <th>2023-12-14</th>\n",
              "      <td>25.400000</td>\n",
              "      <td>25.150000</td>\n",
              "      <td>25.450001</td>\n",
              "      <td>25.700001</td>\n",
              "      <td>26.100000</td>\n",
              "      <td>26.049999</td>\n",
              "      <td>26.250000</td>\n",
              "      <td>26.100000</td>\n",
              "    </tr>\n",
              "    <tr>\n",
              "      <th>2023-12-15</th>\n",
              "      <td>26.450001</td>\n",
              "      <td>25.400000</td>\n",
              "      <td>25.150000</td>\n",
              "      <td>25.450001</td>\n",
              "      <td>25.700001</td>\n",
              "      <td>26.100000</td>\n",
              "      <td>26.049999</td>\n",
              "      <td>26.250000</td>\n",
              "    </tr>\n",
              "    <tr>\n",
              "      <th>2023-12-18</th>\n",
              "      <td>26.650000</td>\n",
              "      <td>26.450001</td>\n",
              "      <td>25.400000</td>\n",
              "      <td>25.150000</td>\n",
              "      <td>25.450001</td>\n",
              "      <td>25.700001</td>\n",
              "      <td>26.100000</td>\n",
              "      <td>26.049999</td>\n",
              "    </tr>\n",
              "    <tr>\n",
              "      <th>...</th>\n",
              "      <td>...</td>\n",
              "      <td>...</td>\n",
              "      <td>...</td>\n",
              "      <td>...</td>\n",
              "      <td>...</td>\n",
              "      <td>...</td>\n",
              "      <td>...</td>\n",
              "      <td>...</td>\n",
              "    </tr>\n",
              "    <tr>\n",
              "      <th>2024-12-02</th>\n",
              "      <td>21.200001</td>\n",
              "      <td>21.200001</td>\n",
              "      <td>21.750000</td>\n",
              "      <td>21.750000</td>\n",
              "      <td>22.100000</td>\n",
              "      <td>22.299999</td>\n",
              "      <td>22.100000</td>\n",
              "      <td>22.049999</td>\n",
              "    </tr>\n",
              "    <tr>\n",
              "      <th>2024-12-03</th>\n",
              "      <td>21.549999</td>\n",
              "      <td>21.200001</td>\n",
              "      <td>21.200001</td>\n",
              "      <td>21.750000</td>\n",
              "      <td>21.750000</td>\n",
              "      <td>22.100000</td>\n",
              "      <td>22.299999</td>\n",
              "      <td>22.100000</td>\n",
              "    </tr>\n",
              "    <tr>\n",
              "      <th>2024-12-04</th>\n",
              "      <td>21.650000</td>\n",
              "      <td>21.549999</td>\n",
              "      <td>21.200001</td>\n",
              "      <td>21.200001</td>\n",
              "      <td>21.750000</td>\n",
              "      <td>21.750000</td>\n",
              "      <td>22.100000</td>\n",
              "      <td>22.299999</td>\n",
              "    </tr>\n",
              "    <tr>\n",
              "      <th>2024-12-05</th>\n",
              "      <td>21.200001</td>\n",
              "      <td>21.650000</td>\n",
              "      <td>21.549999</td>\n",
              "      <td>21.200001</td>\n",
              "      <td>21.200001</td>\n",
              "      <td>21.750000</td>\n",
              "      <td>21.750000</td>\n",
              "      <td>22.100000</td>\n",
              "    </tr>\n",
              "    <tr>\n",
              "      <th>2024-12-06</th>\n",
              "      <td>21.150000</td>\n",
              "      <td>21.200001</td>\n",
              "      <td>21.650000</td>\n",
              "      <td>21.549999</td>\n",
              "      <td>21.200001</td>\n",
              "      <td>21.200001</td>\n",
              "      <td>21.750000</td>\n",
              "      <td>21.750000</td>\n",
              "    </tr>\n",
              "  </tbody>\n",
              "</table>\n",
              "<p>239 rows × 8 columns</p>\n",
              "</div>"
            ],
            "text/plain": [
              "                Close  Close(t-1)  Close(t-2)  Close(t-3)  Close(t-4)  \\\n",
              "Date                                                                    \n",
              "2023-12-12  25.450001   25.700001   26.100000   26.049999   26.250000   \n",
              "2023-12-13  25.150000   25.450001   25.700001   26.100000   26.049999   \n",
              "2023-12-14  25.400000   25.150000   25.450001   25.700001   26.100000   \n",
              "2023-12-15  26.450001   25.400000   25.150000   25.450001   25.700001   \n",
              "2023-12-18  26.650000   26.450001   25.400000   25.150000   25.450001   \n",
              "...               ...         ...         ...         ...         ...   \n",
              "2024-12-02  21.200001   21.200001   21.750000   21.750000   22.100000   \n",
              "2024-12-03  21.549999   21.200001   21.200001   21.750000   21.750000   \n",
              "2024-12-04  21.650000   21.549999   21.200001   21.200001   21.750000   \n",
              "2024-12-05  21.200001   21.650000   21.549999   21.200001   21.200001   \n",
              "2024-12-06  21.150000   21.200001   21.650000   21.549999   21.200001   \n",
              "\n",
              "            Close(t-5)  Close(t-6)  Close(t-7)  \n",
              "Date                                            \n",
              "2023-12-12   26.100000   26.049999   26.000000  \n",
              "2023-12-13   26.250000   26.100000   26.049999  \n",
              "2023-12-14   26.049999   26.250000   26.100000  \n",
              "2023-12-15   26.100000   26.049999   26.250000  \n",
              "2023-12-18   25.700001   26.100000   26.049999  \n",
              "...                ...         ...         ...  \n",
              "2024-12-02   22.299999   22.100000   22.049999  \n",
              "2024-12-03   22.100000   22.299999   22.100000  \n",
              "2024-12-04   21.750000   22.100000   22.299999  \n",
              "2024-12-05   21.750000   21.750000   22.100000  \n",
              "2024-12-06   21.200001   21.750000   21.750000  \n",
              "\n",
              "[239 rows x 8 columns]"
            ]
          },
          "execution_count": 144,
          "metadata": {},
          "output_type": "execute_result"
        }
      ],
      "source": [
        "from copy import deepcopy as dc\n",
        "\n",
        "def prepare_dataframe_for_lstm(df, n_steps):\n",
        "    df = dc(df)\n",
        "\n",
        "    df.set_index('Date', inplace=True)\n",
        "\n",
        "    for i in range(1, n_steps+1):\n",
        "        df[f'Close(t-{i})'] = df['Close'].shift(i)\n",
        "\n",
        "    df.dropna(inplace=True)\n",
        "\n",
        "    return df\n",
        "\n",
        "lookback = 7\n",
        "shifted_df = prepare_dataframe_for_lstm(data, lookback)\n",
        "shifted_df"
      ]
    },
    {
      "cell_type": "code",
      "execution_count": 145,
      "id": "yWcD1tHjfAU-",
      "metadata": {
        "colab": {
          "base_uri": "https://localhost:8080/"
        },
        "id": "yWcD1tHjfAU-",
        "outputId": "e10f8cdf-7b44-4c1a-d0a2-9007aac1685c"
      },
      "outputs": [
        {
          "data": {
            "text/plain": [
              "array([[25.45000076, 25.70000076, 26.10000038, ..., 26.10000038,\n",
              "        26.04999924, 26.        ],\n",
              "       [25.14999962, 25.45000076, 25.70000076, ..., 26.25      ,\n",
              "        26.10000038, 26.04999924],\n",
              "       [25.39999962, 25.14999962, 25.45000076, ..., 26.04999924,\n",
              "        26.25      , 26.10000038],\n",
              "       ...,\n",
              "       [21.64999962, 21.54999924, 21.20000076, ..., 21.75      ,\n",
              "        22.10000038, 22.29999924],\n",
              "       [21.20000076, 21.64999962, 21.54999924, ..., 21.75      ,\n",
              "        21.75      , 22.10000038],\n",
              "       [21.14999962, 21.20000076, 21.64999962, ..., 21.20000076,\n",
              "        21.75      , 21.75      ]])"
            ]
          },
          "execution_count": 145,
          "metadata": {},
          "output_type": "execute_result"
        }
      ],
      "source": [
        "shifted_df_as_np = shifted_df.to_numpy()\n",
        "\n",
        "shifted_df_as_np"
      ]
    },
    {
      "cell_type": "code",
      "execution_count": 146,
      "id": "Pq2p3opGELA_",
      "metadata": {
        "colab": {
          "base_uri": "https://localhost:8080/"
        },
        "id": "Pq2p3opGELA_",
        "outputId": "5cb2ff07-5d8f-4117-eafd-6a3c5663c6ff"
      },
      "outputs": [
        {
          "data": {
            "text/plain": [
              "(239, 8)"
            ]
          },
          "execution_count": 146,
          "metadata": {},
          "output_type": "execute_result"
        }
      ],
      "source": [
        "shifted_df_as_np.shape"
      ]
    },
    {
      "cell_type": "code",
      "execution_count": 147,
      "id": "pXHkuFeafNUU",
      "metadata": {
        "colab": {
          "base_uri": "https://localhost:8080/"
        },
        "id": "pXHkuFeafNUU",
        "outputId": "a67d1f79-d279-4c96-e40f-0d9a5f9f7d7d"
      },
      "outputs": [
        {
          "data": {
            "text/plain": [
              "array([[ 0.54411782,  0.61764724,  0.7352942 , ...,  0.7352942 ,\n",
              "         0.72058798,  0.70588232],\n",
              "       [ 0.45588218,  0.54411782,  0.61764724, ...,  0.77941174,\n",
              "         0.7352942 ,  0.72058798],\n",
              "       [ 0.5294116 ,  0.45588218,  0.54411782, ...,  0.72058798,\n",
              "         0.77941174,  0.7352942 ],\n",
              "       ...,\n",
              "       [-0.5735297 , -0.60294158, -0.70588232, ..., -0.54411782,\n",
              "        -0.44117652, -0.38235332],\n",
              "       [-0.70588232, -0.5735297 , -0.60294158, ..., -0.54411782,\n",
              "        -0.54411782, -0.44117652],\n",
              "       [-0.72058854, -0.70588232, -0.5735297 , ..., -0.70588232,\n",
              "        -0.54411782, -0.54411782]])"
            ]
          },
          "execution_count": 147,
          "metadata": {},
          "output_type": "execute_result"
        }
      ],
      "source": [
        "from sklearn.preprocessing import MinMaxScaler\n",
        "\n",
        "scaler = MinMaxScaler(feature_range=(-1, 1))\n",
        "shifted_df_as_np = scaler.fit_transform(shifted_df_as_np)\n",
        "\n",
        "shifted_df_as_np"
      ]
    },
    {
      "cell_type": "code",
      "execution_count": 148,
      "id": "Iui9unuTfxOe",
      "metadata": {
        "colab": {
          "base_uri": "https://localhost:8080/"
        },
        "id": "Iui9unuTfxOe",
        "outputId": "642f093d-5071-43ef-fb9c-4c54061aec3e"
      },
      "outputs": [
        {
          "data": {
            "text/plain": [
              "((239, 7), (239,))"
            ]
          },
          "execution_count": 148,
          "metadata": {},
          "output_type": "execute_result"
        }
      ],
      "source": [
        "X = shifted_df_as_np[:, 1:]\n",
        "y = shifted_df_as_np[:, 0]\n",
        "\n",
        "X.shape, y.shape"
      ]
    },
    {
      "cell_type": "code",
      "execution_count": 149,
      "id": "XmbIqwj-E0cv",
      "metadata": {
        "colab": {
          "base_uri": "https://localhost:8080/"
        },
        "id": "XmbIqwj-E0cv",
        "outputId": "48ccc3a1-1b5c-49fd-ae2f-3f8b143fbb4c"
      },
      "outputs": [
        {
          "data": {
            "text/plain": [
              "array([[ 0.70588232,  0.72058798,  0.7352942 , ...,  0.72058798,\n",
              "         0.7352942 ,  0.61764724],\n",
              "       [ 0.72058798,  0.7352942 ,  0.77941174, ...,  0.7352942 ,\n",
              "         0.61764724,  0.54411782],\n",
              "       [ 0.7352942 ,  0.77941174,  0.72058798, ...,  0.61764724,\n",
              "         0.54411782,  0.45588218],\n",
              "       ...,\n",
              "       [-0.38235332, -0.44117652, -0.54411782, ..., -0.70588232,\n",
              "        -0.70588232, -0.60294158],\n",
              "       [-0.44117652, -0.54411782, -0.54411782, ..., -0.70588232,\n",
              "        -0.60294158, -0.5735297 ],\n",
              "       [-0.54411782, -0.54411782, -0.70588232, ..., -0.60294158,\n",
              "        -0.5735297 , -0.70588232]])"
            ]
          },
          "execution_count": 149,
          "metadata": {},
          "output_type": "execute_result"
        }
      ],
      "source": [
        "X = dc(np.flip(X, axis=1))\n",
        "X"
      ]
    },
    {
      "cell_type": "code",
      "execution_count": 150,
      "id": "GCHslawXgE21",
      "metadata": {
        "colab": {
          "base_uri": "https://localhost:8080/"
        },
        "id": "GCHslawXgE21",
        "outputId": "a2e50719-a1fb-460e-9ce4-9dd873642765"
      },
      "outputs": [
        {
          "data": {
            "text/plain": [
              "227"
            ]
          },
          "execution_count": 150,
          "metadata": {},
          "output_type": "execute_result"
        }
      ],
      "source": [
        "split_index = int(len(X) * 0.95)\n",
        "\n",
        "split_index"
      ]
    },
    {
      "cell_type": "code",
      "execution_count": 151,
      "id": "hhGMh_nAgiST",
      "metadata": {
        "colab": {
          "base_uri": "https://localhost:8080/"
        },
        "id": "hhGMh_nAgiST",
        "outputId": "aeb231ef-e124-4821-f4ee-dbb2275c0f98"
      },
      "outputs": [
        {
          "data": {
            "text/plain": [
              "((227, 7), (12, 7), (227,), (12,))"
            ]
          },
          "execution_count": 151,
          "metadata": {},
          "output_type": "execute_result"
        }
      ],
      "source": [
        "X_train = X[:split_index]\n",
        "X_test = X[split_index:]\n",
        "\n",
        "y_train = y[:split_index]\n",
        "y_test = y[split_index:]\n",
        "\n",
        "X_train.shape, X_test.shape, y_train.shape, y_test.shape"
      ]
    },
    {
      "cell_type": "code",
      "execution_count": 152,
      "id": "Muqs9hKYhMUS",
      "metadata": {
        "colab": {
          "base_uri": "https://localhost:8080/"
        },
        "id": "Muqs9hKYhMUS",
        "outputId": "d35136a0-5855-4bfb-b66b-b8f7a1a8ea96"
      },
      "outputs": [
        {
          "data": {
            "text/plain": [
              "((227, 7, 1), (12, 7, 1), (227, 1), (12, 1))"
            ]
          },
          "execution_count": 152,
          "metadata": {},
          "output_type": "execute_result"
        }
      ],
      "source": [
        "X_train = X_train.reshape((-1, lookback, 1))\n",
        "X_test = X_test.reshape((-1, lookback, 1))\n",
        "\n",
        "y_train = y_train.reshape((-1, 1))\n",
        "y_test = y_test.reshape((-1, 1))\n",
        "\n",
        "X_train.shape, X_test.shape, y_train.shape, y_test.shape"
      ]
    },
    {
      "cell_type": "code",
      "execution_count": 153,
      "id": "i7-PBcrMhR7z",
      "metadata": {
        "colab": {
          "base_uri": "https://localhost:8080/"
        },
        "id": "i7-PBcrMhR7z",
        "outputId": "b01a297a-75d6-4573-e450-a3545360112e"
      },
      "outputs": [
        {
          "data": {
            "text/plain": [
              "(torch.Size([227, 7, 1]),\n",
              " torch.Size([12, 7, 1]),\n",
              " torch.Size([227, 1]),\n",
              " torch.Size([12, 1]))"
            ]
          },
          "execution_count": 153,
          "metadata": {},
          "output_type": "execute_result"
        }
      ],
      "source": [
        "X_train = torch.tensor(X_train).float()\n",
        "y_train = torch.tensor(y_train).float()\n",
        "X_test = torch.tensor(X_test).float()\n",
        "y_test = torch.tensor(y_test).float()\n",
        "\n",
        "X_train.shape, X_test.shape, y_train.shape, y_test.shape"
      ]
    },
    {
      "cell_type": "code",
      "execution_count": 154,
      "id": "DWutCAGKhdqU",
      "metadata": {
        "id": "DWutCAGKhdqU"
      },
      "outputs": [],
      "source": [
        "from torch.utils.data import Dataset\n",
        "\n",
        "class TimeSeriesDataset(Dataset):\n",
        "    def __init__(self, X, y):\n",
        "        self.X = X\n",
        "        self.y = y\n",
        "\n",
        "    def __len__(self):\n",
        "        return len(self.X)\n",
        "\n",
        "    def __getitem__(self, i):\n",
        "        return self.X[i], self.y[i]\n",
        "\n",
        "train_dataset = TimeSeriesDataset(X_train, y_train)\n",
        "test_dataset = TimeSeriesDataset(X_test, y_test)"
      ]
    },
    {
      "cell_type": "code",
      "execution_count": 155,
      "id": "12OWUTa5ijoq",
      "metadata": {
        "colab": {
          "base_uri": "https://localhost:8080/"
        },
        "id": "12OWUTa5ijoq",
        "outputId": "0928d3c2-d181-4035-cc57-a2ac6ce38075"
      },
      "outputs": [
        {
          "data": {
            "text/plain": [
              "<__main__.TimeSeriesDataset at 0x7f20183cc880>"
            ]
          },
          "execution_count": 155,
          "metadata": {},
          "output_type": "execute_result"
        }
      ],
      "source": [
        "train_dataset"
      ]
    },
    {
      "cell_type": "code",
      "execution_count": 156,
      "id": "XYsUmPl3ik46",
      "metadata": {
        "id": "XYsUmPl3ik46"
      },
      "outputs": [],
      "source": [
        "from torch.utils.data import DataLoader\n",
        "\n",
        "batch_size = 2\n",
        "\n",
        "train_loader = DataLoader(train_dataset, batch_size=batch_size, shuffle=True)\n",
        "test_loader = DataLoader(test_dataset, batch_size=batch_size, shuffle=False)"
      ]
    },
    {
      "cell_type": "code",
      "execution_count": 157,
      "id": "TJTnbgBDjOSK",
      "metadata": {
        "colab": {
          "base_uri": "https://localhost:8080/"
        },
        "id": "TJTnbgBDjOSK",
        "outputId": "51226616-d4de-4a22-f4d9-576fd3e8bfba"
      },
      "outputs": [
        {
          "name": "stdout",
          "output_type": "stream",
          "text": [
            "torch.Size([2, 7, 1]) torch.Size([2, 1])\n"
          ]
        }
      ],
      "source": [
        "for _, batch in enumerate(train_loader):\n",
        "    x_batch, y_batch = batch[0].to(device), batch[1].to(device)\n",
        "    print(x_batch.shape, y_batch.shape)\n",
        "    break"
      ]
    },
    {
      "cell_type": "code",
      "execution_count": 158,
      "id": "njdkq_kmjib5",
      "metadata": {
        "colab": {
          "base_uri": "https://localhost:8080/"
        },
        "id": "njdkq_kmjib5",
        "outputId": "db355c8d-cc21-43f5-cdfa-2156444b4531"
      },
      "outputs": [
        {
          "data": {
            "text/plain": [
              "LSTM(\n",
              "  (lstm): LSTM(1, 32, num_layers=2, batch_first=True)\n",
              "  (fc): Linear(in_features=32, out_features=1, bias=True)\n",
              ")"
            ]
          },
          "execution_count": 158,
          "metadata": {},
          "output_type": "execute_result"
        }
      ],
      "source": [
        "class LSTM(nn.Module):\n",
        "    def __init__(self, input_size, hidden_size, num_stacked_layers):\n",
        "        super().__init__()\n",
        "        self.hidden_size = hidden_size\n",
        "        self.num_stacked_layers = num_stacked_layers\n",
        "\n",
        "        self.lstm = nn.LSTM(input_size, hidden_size, num_stacked_layers,\n",
        "                            batch_first=True)\n",
        "\n",
        "        self.fc = nn.Linear(hidden_size, 1)\n",
        "\n",
        "    def forward(self, x):\n",
        "        batch_size = x.size(0)\n",
        "        h0 = torch.zeros(self.num_stacked_layers, batch_size, self.hidden_size).to(device)\n",
        "        c0 = torch.zeros(self.num_stacked_layers, batch_size, self.hidden_size).to(device)\n",
        "\n",
        "        out, _ = self.lstm(x, (h0, c0))\n",
        "        out = self.fc(out[:, -1, :])\n",
        "        return out\n",
        "\n",
        "model = LSTM(1, 32, 2)\n",
        "model.to(device)\n",
        "model"
      ]
    },
    {
      "cell_type": "code",
      "execution_count": 159,
      "id": "iue5WvTxmVKB",
      "metadata": {
        "id": "iue5WvTxmVKB"
      },
      "outputs": [],
      "source": [
        "def train_one_epoch():\n",
        "    model.train(True)\n",
        "    print(f'Epoch: {epoch + 1}')\n",
        "    running_loss = 0.0\n",
        "\n",
        "    for batch_index, batch in enumerate(train_loader):\n",
        "        x_batch, y_batch = batch[0].to(device), batch[1].to(device)\n",
        "\n",
        "        output = model(x_batch)\n",
        "        loss = loss_function(output, y_batch)\n",
        "        running_loss += loss.item()\n",
        "\n",
        "        optimizer.zero_grad()\n",
        "        loss.backward()\n",
        "        optimizer.step()\n",
        "\n",
        "        if batch_index % 100 == 99:  # print every 100 batches\n",
        "            avg_loss_across_batches = running_loss / 100\n",
        "            print('Batch {0}, Loss: {1:.3f}'.format(batch_index+1,\n",
        "                                                    avg_loss_across_batches))\n",
        "            running_loss = 0.0\n",
        "    print()"
      ]
    },
    {
      "cell_type": "code",
      "execution_count": 160,
      "id": "gRmNuV3cmy-t",
      "metadata": {
        "id": "gRmNuV3cmy-t"
      },
      "outputs": [],
      "source": [
        "def validate_one_epoch():\n",
        "    model.train(False)\n",
        "    running_loss = 0.0\n",
        "\n",
        "    for batch_index, batch in enumerate(test_loader):\n",
        "        x_batch, y_batch = batch[0].to(device), batch[1].to(device)\n",
        "\n",
        "        with torch.no_grad():\n",
        "            output = model(x_batch)\n",
        "            loss = loss_function(output, y_batch)\n",
        "            running_loss += loss.item()\n",
        "\n",
        "    avg_loss_across_batches = running_loss / len(test_loader)\n",
        "\n",
        "    print('Val Loss: {0:.3f}'.format(avg_loss_across_batches))\n",
        "    print('***************************************************')\n",
        "    print()"
      ]
    },
    {
      "cell_type": "code",
      "execution_count": 161,
      "id": "1jgb1aJ3lxlQ",
      "metadata": {
        "colab": {
          "base_uri": "https://localhost:8080/"
        },
        "id": "1jgb1aJ3lxlQ",
        "outputId": "2a25db36-4872-44e4-feca-4d26bad49f96"
      },
      "outputs": [
        {
          "name": "stdout",
          "output_type": "stream",
          "text": [
            "Epoch: 1\n",
            "Batch 100, Loss: 0.110\n",
            "\n",
            "Val Loss: 0.029\n",
            "***************************************************\n",
            "\n",
            "Epoch: 2\n",
            "Batch 100, Loss: 0.027\n",
            "\n",
            "Val Loss: 0.016\n",
            "***************************************************\n",
            "\n",
            "Epoch: 3\n",
            "Batch 100, Loss: 0.029\n",
            "\n",
            "Val Loss: 0.035\n",
            "***************************************************\n",
            "\n",
            "Epoch: 4\n",
            "Batch 100, Loss: 0.024\n",
            "\n",
            "Val Loss: 0.007\n",
            "***************************************************\n",
            "\n",
            "Epoch: 5\n",
            "Batch 100, Loss: 0.022\n",
            "\n",
            "Val Loss: 0.020\n",
            "***************************************************\n",
            "\n",
            "Epoch: 6\n",
            "Batch 100, Loss: 0.022\n",
            "\n",
            "Val Loss: 0.006\n",
            "***************************************************\n",
            "\n",
            "Epoch: 7\n",
            "Batch 100, Loss: 0.018\n",
            "\n",
            "Val Loss: 0.008\n",
            "***************************************************\n",
            "\n",
            "Epoch: 8\n",
            "Batch 100, Loss: 0.018\n",
            "\n",
            "Val Loss: 0.017\n",
            "***************************************************\n",
            "\n",
            "Epoch: 9\n",
            "Batch 100, Loss: 0.016\n",
            "\n",
            "Val Loss: 0.013\n",
            "***************************************************\n",
            "\n",
            "Epoch: 10\n",
            "Batch 100, Loss: 0.011\n",
            "\n",
            "Val Loss: 0.015\n",
            "***************************************************\n",
            "\n",
            "Epoch: 11\n",
            "Batch 100, Loss: 0.012\n",
            "\n",
            "Val Loss: 0.007\n",
            "***************************************************\n",
            "\n",
            "Epoch: 12\n",
            "Batch 100, Loss: 0.013\n",
            "\n",
            "Val Loss: 0.009\n",
            "***************************************************\n",
            "\n",
            "Epoch: 13\n",
            "Batch 100, Loss: 0.012\n",
            "\n",
            "Val Loss: 0.008\n",
            "***************************************************\n",
            "\n",
            "Epoch: 14\n",
            "Batch 100, Loss: 0.010\n",
            "\n",
            "Val Loss: 0.011\n",
            "***************************************************\n",
            "\n",
            "Epoch: 15\n",
            "Batch 100, Loss: 0.010\n",
            "\n",
            "Val Loss: 0.020\n",
            "***************************************************\n",
            "\n",
            "Epoch: 16\n",
            "Batch 100, Loss: 0.008\n",
            "\n",
            "Val Loss: 0.012\n",
            "***************************************************\n",
            "\n",
            "Epoch: 17\n",
            "Batch 100, Loss: 0.008\n",
            "\n",
            "Val Loss: 0.009\n",
            "***************************************************\n",
            "\n",
            "Epoch: 18\n",
            "Batch 100, Loss: 0.006\n",
            "\n",
            "Val Loss: 0.009\n",
            "***************************************************\n",
            "\n",
            "Epoch: 19\n",
            "Batch 100, Loss: 0.008\n",
            "\n",
            "Val Loss: 0.009\n",
            "***************************************************\n",
            "\n",
            "Epoch: 20\n",
            "Batch 100, Loss: 0.007\n",
            "\n",
            "Val Loss: 0.016\n",
            "***************************************************\n",
            "\n",
            "Epoch: 21\n",
            "Batch 100, Loss: 0.007\n",
            "\n",
            "Val Loss: 0.014\n",
            "***************************************************\n",
            "\n",
            "Epoch: 22\n",
            "Batch 100, Loss: 0.007\n",
            "\n",
            "Val Loss: 0.017\n",
            "***************************************************\n",
            "\n",
            "Epoch: 23\n",
            "Batch 100, Loss: 0.007\n",
            "\n",
            "Val Loss: 0.007\n",
            "***************************************************\n",
            "\n",
            "Epoch: 24\n",
            "Batch 100, Loss: 0.009\n",
            "\n",
            "Val Loss: 0.008\n",
            "***************************************************\n",
            "\n",
            "Epoch: 25\n",
            "Batch 100, Loss: 0.008\n",
            "\n",
            "Val Loss: 0.007\n",
            "***************************************************\n",
            "\n",
            "Epoch: 26\n",
            "Batch 100, Loss: 0.007\n",
            "\n",
            "Val Loss: 0.011\n",
            "***************************************************\n",
            "\n",
            "Epoch: 27\n",
            "Batch 100, Loss: 0.006\n",
            "\n",
            "Val Loss: 0.012\n",
            "***************************************************\n",
            "\n",
            "Epoch: 28\n",
            "Batch 100, Loss: 0.007\n",
            "\n",
            "Val Loss: 0.007\n",
            "***************************************************\n",
            "\n",
            "Epoch: 29\n",
            "Batch 100, Loss: 0.008\n",
            "\n",
            "Val Loss: 0.010\n",
            "***************************************************\n",
            "\n",
            "Epoch: 30\n",
            "Batch 100, Loss: 0.008\n",
            "\n",
            "Val Loss: 0.009\n",
            "***************************************************\n",
            "\n",
            "Epoch: 31\n",
            "Batch 100, Loss: 0.007\n",
            "\n",
            "Val Loss: 0.007\n",
            "***************************************************\n",
            "\n",
            "Epoch: 32\n",
            "Batch 100, Loss: 0.007\n",
            "\n",
            "Val Loss: 0.011\n",
            "***************************************************\n",
            "\n",
            "Epoch: 33\n",
            "Batch 100, Loss: 0.007\n",
            "\n",
            "Val Loss: 0.013\n",
            "***************************************************\n",
            "\n",
            "Epoch: 34\n",
            "Batch 100, Loss: 0.007\n",
            "\n",
            "Val Loss: 0.014\n",
            "***************************************************\n",
            "\n",
            "Epoch: 35\n",
            "Batch 100, Loss: 0.007\n",
            "\n",
            "Val Loss: 0.010\n",
            "***************************************************\n",
            "\n",
            "Epoch: 36\n",
            "Batch 100, Loss: 0.007\n",
            "\n",
            "Val Loss: 0.017\n",
            "***************************************************\n",
            "\n",
            "Epoch: 37\n",
            "Batch 100, Loss: 0.008\n",
            "\n",
            "Val Loss: 0.008\n",
            "***************************************************\n",
            "\n",
            "Epoch: 38\n",
            "Batch 100, Loss: 0.007\n",
            "\n",
            "Val Loss: 0.008\n",
            "***************************************************\n",
            "\n",
            "Epoch: 39\n",
            "Batch 100, Loss: 0.007\n",
            "\n",
            "Val Loss: 0.008\n",
            "***************************************************\n",
            "\n",
            "Epoch: 40\n",
            "Batch 100, Loss: 0.008\n",
            "\n",
            "Val Loss: 0.007\n",
            "***************************************************\n",
            "\n",
            "Epoch: 41\n",
            "Batch 100, Loss: 0.008\n",
            "\n",
            "Val Loss: 0.007\n",
            "***************************************************\n",
            "\n",
            "Epoch: 42\n",
            "Batch 100, Loss: 0.007\n",
            "\n",
            "Val Loss: 0.009\n",
            "***************************************************\n",
            "\n",
            "Epoch: 43\n",
            "Batch 100, Loss: 0.007\n",
            "\n",
            "Val Loss: 0.009\n",
            "***************************************************\n",
            "\n",
            "Epoch: 44\n",
            "Batch 100, Loss: 0.006\n",
            "\n",
            "Val Loss: 0.007\n",
            "***************************************************\n",
            "\n",
            "Epoch: 45\n",
            "Batch 100, Loss: 0.007\n",
            "\n",
            "Val Loss: 0.013\n",
            "***************************************************\n",
            "\n",
            "Epoch: 46\n",
            "Batch 100, Loss: 0.007\n",
            "\n",
            "Val Loss: 0.007\n",
            "***************************************************\n",
            "\n",
            "Epoch: 47\n",
            "Batch 100, Loss: 0.007\n",
            "\n",
            "Val Loss: 0.011\n",
            "***************************************************\n",
            "\n",
            "Epoch: 48\n",
            "Batch 100, Loss: 0.007\n",
            "\n",
            "Val Loss: 0.007\n",
            "***************************************************\n",
            "\n",
            "Epoch: 49\n",
            "Batch 100, Loss: 0.007\n",
            "\n",
            "Val Loss: 0.009\n",
            "***************************************************\n",
            "\n",
            "Epoch: 50\n",
            "Batch 100, Loss: 0.007\n",
            "\n",
            "Val Loss: 0.008\n",
            "***************************************************\n",
            "\n"
          ]
        }
      ],
      "source": [
        "learning_rate = 0.001\n",
        "num_epochs = 50\n",
        "loss_function = nn.MSELoss()\n",
        "optimizer = torch.optim.Adam(model.parameters(), lr=learning_rate)\n",
        "\n",
        "for epoch in range(num_epochs):\n",
        "    train_one_epoch()\n",
        "    validate_one_epoch()"
      ]
    },
    {
      "cell_type": "code",
      "execution_count": 162,
      "id": "d3SDgEvPpOcD",
      "metadata": {
        "colab": {
          "base_uri": "https://localhost:8080/"
        },
        "id": "d3SDgEvPpOcD",
        "outputId": "e9b8491e-b15e-4aa5-ae97-6619bb4a3be9"
      },
      "outputs": [
        {
          "data": {
            "text/plain": [
              "array([25.46564109, 25.27329948, 25.00425145, 25.38128805, 26.43723891,\n",
              "       26.49662455, 26.39410586, 26.27954111, 26.39660197, 26.57884281,\n",
              "       26.65672463, 26.68280035, 26.66934563, 26.78910668, 26.76464005,\n",
              "       26.76619239, 26.40885434, 26.51844409, 26.52342375, 26.27486685,\n",
              "       25.7078506 , 25.70917516, 25.70951461, 25.70725033, 25.68861127,\n",
              "       24.94029816, 24.60519124, 24.75446565, 24.59862296, 24.70229517,\n",
              "       24.73680745, 25.09362001, 24.98738908, 25.13061057, 25.34745893,\n",
              "       24.84686331, 25.02927154, 25.17447196, 25.03056023, 24.68037531,\n",
              "       24.45194497, 24.86679106, 25.39068014, 25.18216417, 25.0822111 ,\n",
              "       24.99326488, 24.85702427, 24.78481802, 24.5240965 , 24.50872729,\n",
              "       24.36234067, 24.09070422, 23.95275988, 23.9853141 , 23.88459839,\n",
              "       24.03646645, 23.97886043, 24.0633308 , 23.84466852, 23.94981246,\n",
              "       23.75761256, 23.59199903, 23.56144   , 23.42493526, 23.7899435 ,\n",
              "       23.91452634, 23.75629758, 23.89184171, 23.80426985, 23.68869572,\n",
              "       23.86466112, 23.9347982 , 24.23313343, 24.58871147, 24.91787835,\n",
              "       25.93785923, 25.39281613, 25.01051453, 24.60414493, 24.41002071,\n",
              "       24.16292709, 24.44081902, 24.80491113, 24.33709392, 24.59466753,\n",
              "       24.77836566, 24.63130161, 24.39796087, 24.44086016, 24.96614751,\n",
              "       24.75435399, 24.82973545, 24.83440484, 25.0041481 , 24.75899136,\n",
              "       24.60446613, 24.47912942, 24.74534675, 24.78604044, 24.91673253,\n",
              "       24.60180547, 25.07545821, 24.94405195, 25.14750578, 24.72400872,\n",
              "       24.41810039, 23.98905979, 23.91581493, 23.85952278, 24.18458208,\n",
              "       23.88973956, 23.73324924, 23.64894905, 23.72476196, 23.52358502,\n",
              "       23.45685134, 23.42227978, 23.63731893, 23.28031519, 23.18313356,\n",
              "       23.22065943, 23.18997033, 23.38493868, 23.3450577 , 23.41272117,\n",
              "       23.62439112, 23.52085175, 23.28207282, 23.18517529, 22.96382815,\n",
              "       22.96777371, 23.05050169, 23.00429289, 22.9299319 , 23.02249573,\n",
              "       23.44285167, 23.51234733, 23.40026597, 23.07238735, 22.92237035,\n",
              "       22.96783526, 23.05373871, 23.35541035, 23.05596849, 23.23387674,\n",
              "       23.43954854, 23.27809978, 22.98492411, 23.0379801 , 22.84018316,\n",
              "       22.81949408, 23.04332885, 23.16804153, 23.08826462, 22.90491212,\n",
              "       21.90482418, 21.89366596, 22.26357637, 22.17519596, 22.26524889,\n",
              "       22.23964414, 22.06773166, 22.60705703, 22.3540032 , 22.20871219,\n",
              "       21.94420831, 21.87135538, 21.91445358, 22.27564452, 22.20132153,\n",
              "       22.29709077, 22.36844992, 22.31254591, 22.24053684, 22.1912544 ,\n",
              "       22.05770831, 21.86012055, 21.23675363, 21.00743201, 21.03593453,\n",
              "       20.70809505, 20.47175931, 20.32010268, 20.70535819, 21.26047915,\n",
              "       21.63576278, 21.7621987 , 21.40246971, 21.12939573, 21.21184562,\n",
              "       21.35320896, 21.89089505, 21.8987814 , 23.05271677, 23.27922006,\n",
              "       23.25952237, 23.56418569, 23.69629556, 23.57344128, 22.54793808,\n",
              "       22.50361463, 22.32253025, 22.31726414, 22.15384577, 22.39476153,\n",
              "       22.94629063, 22.63396546, 22.29045643, 22.18338629, 22.18470416,\n",
              "       22.50304436, 22.75700669, 22.58451137, 22.40956077, 22.59981431,\n",
              "       22.66658544, 22.84325192, 23.05040548, 23.09158934, 23.16129806,\n",
              "       23.11137852, 22.22503834, 22.25877414, 22.22811506, 22.04516614,\n",
              "       22.3849609 , 22.38807754])"
            ]
          },
          "execution_count": 162,
          "metadata": {},
          "output_type": "execute_result"
        }
      ],
      "source": [
        "with torch.no_grad():\n",
        "    predicted = model(X_train.to(device)).to('cpu').numpy()\n",
        "train_predictions = predicted.flatten()\n",
        "\n",
        "dummies = np.zeros((X_train.shape[0], lookback+1))\n",
        "dummies[:, 0] = train_predictions\n",
        "dummies = scaler.inverse_transform(dummies)\n",
        "\n",
        "train_predictions = dc(dummies[:, 0])\n",
        "train_predictions"
      ]
    },
    {
      "cell_type": "code",
      "execution_count": 163,
      "id": "PHnvejOdrL7Q",
      "metadata": {
        "colab": {
          "base_uri": "https://localhost:8080/"
        },
        "id": "PHnvejOdrL7Q",
        "outputId": "952cb861-3f21-42d2-f1b2-9e489c9cdcd7"
      },
      "outputs": [
        {
          "name": "stderr",
          "output_type": "stream",
          "text": [
            "/tmp/ipykernel_334775/2550294898.py:2: DeprecationWarning: __array__ implementation doesn't accept a copy keyword, so passing copy=False failed. __array__ must implement 'dtype' and 'copy' keyword arguments.\n",
            "  dummies[:, 0] = y_train.flatten()\n"
          ]
        },
        {
          "data": {
            "text/plain": [
              "array([25.45000072, 25.14999966, 25.39999967, 26.45000075, 26.64999971,\n",
              "       26.64999971, 26.54999922, 26.60000047, 26.74999999, 26.85000048,\n",
              "       26.89999971, 26.89999971, 27.        , 27.        , 27.        ,\n",
              "       26.70000076, 26.70000076, 26.70000076, 26.49999998, 25.99999997,\n",
              "       25.85000045, 25.79999919, 25.79999919, 25.79999919, 25.20000071,\n",
              "       24.79999926, 24.79999926, 24.64999964, 24.75000003, 24.79999926,\n",
              "       25.14999966, 25.10000043, 25.25000005, 25.45000072, 25.04999927,\n",
              "       25.14999966, 25.25000005, 25.14999966, 24.85000042, 24.60000041,\n",
              "       24.89999965, 25.39999967, 25.29999928, 25.25000005, 25.14999966,\n",
              "       25.00000004, 24.89999965, 24.64999964, 24.60000041, 24.45000079,\n",
              "       24.20000079, 24.04999924, 24.04999924, 23.95000075, 24.1000004 ,\n",
              "       24.04999924, 24.14999963, 23.95000075, 24.04999924, 23.85000039,\n",
              "       23.70000076, 23.64999962, 23.5       , 23.85000039, 23.95000075,\n",
              "       23.85000039, 24.00000001, 23.89999962, 23.79999923, 23.95000075,\n",
              "       24.00000001, 24.29999925, 24.64999964, 25.00000004, 26.0499992 ,\n",
              "       25.60000044, 25.29999928, 24.85000042, 24.54999926, 24.25000002,\n",
              "       24.45000079, 24.79999926, 24.45000079, 24.7000008 , 24.85000042,\n",
              "       24.75000003, 24.54999926, 24.54999926, 25.00000004, 24.85000042,\n",
              "       24.95000081, 24.95000081, 25.10000043, 24.89999965, 24.75000003,\n",
              "       24.60000041, 24.79999926, 24.85000042, 25.00000004, 24.75000003,\n",
              "       25.14999966, 25.04999927, 25.25000005, 24.89999965, 24.60000041,\n",
              "       24.14999963, 24.00000001, 23.89999962, 24.20000079, 23.95000075,\n",
              "       23.85000039, 23.75      , 23.79999923, 23.60000038, 23.54999924,\n",
              "       23.5       , 23.70000076, 23.35000037, 23.29999924, 23.29999924,\n",
              "       23.25000001, 23.45000076, 23.39999962, 23.5       , 23.70000076,\n",
              "       23.60000038, 23.39999962, 23.29999924, 23.04999926, 23.04999926,\n",
              "       23.10000037, 23.04999926, 22.99999998, 23.10000037, 23.5       ,\n",
              "       23.54999924, 23.5       , 23.20000075, 23.04999926, 23.04999926,\n",
              "       23.10000037, 23.39999962, 23.10000037, 23.35000037, 23.5       ,\n",
              "       23.35000037, 23.10000037, 23.1499996 , 22.89999964, 22.89999964,\n",
              "       23.10000037, 23.20000075, 23.1499996 , 22.99999998, 21.95000072,\n",
              "       22.10000034, 22.29999929, 22.10000034, 22.29999929, 22.24999995,\n",
              "       22.10000034, 22.70000074, 22.29999929, 22.29999929, 22.00000005,\n",
              "       21.95000072, 21.95000072, 22.29999929, 22.14999967, 22.35000034,\n",
              "       22.39999957, 22.35000034, 22.29999929, 22.24999995, 22.10000034,\n",
              "       21.89999956, 21.20000079, 21.1000003 , 21.04999925, 20.54999923,\n",
              "       20.39999972, 20.20000076, 20.64999952, 21.04999925, 21.39999954,\n",
              "       21.60000032, 21.29999926, 21.14999954, 21.25000003, 21.29999926,\n",
              "       21.85000033, 21.75000004, 23.10000037, 23.1499996 , 23.35000037,\n",
              "       23.70000076, 23.79999923, 23.70000076, 22.70000074, 22.70000074,\n",
              "       22.35000034, 22.35000034, 22.14999967, 22.45000073, 22.95000075,\n",
              "       22.60000035, 22.39999957, 22.29999929, 22.24999995, 22.54999919,\n",
              "       22.74999997, 22.60000035, 22.49999996, 22.70000074, 22.70000074,\n",
              "       22.89999964, 23.10000037, 23.1499996 , 23.25000001, 23.20000075,\n",
              "       22.29999929, 22.45000073, 22.24999995, 22.04999928, 22.45000073,\n",
              "       22.35000034, 22.29999929])"
            ]
          },
          "execution_count": 163,
          "metadata": {},
          "output_type": "execute_result"
        }
      ],
      "source": [
        "dummies = np.zeros((X_train.shape[0], lookback+1))\n",
        "dummies[:, 0] = y_train.flatten()\n",
        "dummies = scaler.inverse_transform(dummies)\n",
        "\n",
        "new_y_train = dc(dummies[:, 0])\n",
        "new_y_train"
      ]
    },
    {
      "cell_type": "code",
      "execution_count": 164,
      "id": "2LlDAUtyrcrN",
      "metadata": {
        "colab": {
          "base_uri": "https://localhost:8080/",
          "height": 449
        },
        "id": "2LlDAUtyrcrN",
        "outputId": "819c2ff2-be0d-4781-d164-915936251f66"
      },
      "outputs": [
        {
          "data": {
            "image/png": "[encoded data removed]",
            "text/plain": [
              "<Figure size 640x480 with 1 Axes>"
            ]
          },
          "metadata": {},
          "output_type": "display_data"
        }
      ],
      "source": [
        "plt.plot(new_y_train, label='Actual Close')\n",
        "plt.plot(train_predictions, label='Predicted Close')\n",
        "plt.xlabel('Day')\n",
        "plt.ylabel('Close')\n",
        "plt.legend()\n",
        "plt.show()\n"
      ]
    },
    {
      "cell_type": "code",
      "execution_count": 165,
      "id": "yYeC2JMorftR",
      "metadata": {
        "colab": {
          "base_uri": "https://localhost:8080/"
        },
        "id": "yYeC2JMorftR",
        "outputId": "94df7137-866f-42aa-cb02-5a78961f6779"
      },
      "outputs": [
        {
          "data": {
            "text/plain": [
              "array([22.26698008, 22.00298801, 22.01177698, 22.25898865, 22.12637234,\n",
              "       21.73047213, 21.65746458, 21.24479927, 21.14223113, 21.52639108,\n",
              "       21.77032885, 21.33828863])"
            ]
          },
          "execution_count": 165,
          "metadata": {},
          "output_type": "execute_result"
        }
      ],
      "source": [
        "test_predictions = model(X_test.to(device)).detach().cpu().numpy().flatten()\n",
        "\n",
        "dummies = np.zeros((X_test.shape[0], lookback+1))\n",
        "dummies[:, 0] = test_predictions\n",
        "dummies = scaler.inverse_transform(dummies)\n",
        "\n",
        "test_predictions = dc(dummies[:, 0])\n",
        "test_predictions"
      ]
    },
    {
      "cell_type": "code",
      "execution_count": 166,
      "id": "g-DJXBgYsFyI",
      "metadata": {
        "colab": {
          "base_uri": "https://localhost:8080/"
        },
        "id": "g-DJXBgYsFyI",
        "outputId": "b606685e-137b-41ef-8a56-6171133ed013"
      },
      "outputs": [
        {
          "name": "stderr",
          "output_type": "stream",
          "text": [
            "/tmp/ipykernel_334775/1312012603.py:2: DeprecationWarning: __array__ implementation doesn't accept a copy keyword, so passing copy=False failed. __array__ must implement 'dtype' and 'copy' keyword arguments.\n",
            "  dummies[:, 0] = y_test.flatten()\n"
          ]
        },
        {
          "data": {
            "text/plain": [
              "array([22.04999928, 22.10000034, 22.29999929, 22.10000034, 21.75000004,\n",
              "       21.75000004, 21.20000079, 21.20000079, 21.54999926, 21.64999955,\n",
              "       21.20000079, 21.14999954])"
            ]
          },
          "execution_count": 166,
          "metadata": {},
          "output_type": "execute_result"
        }
      ],
      "source": [
        "dummies = np.zeros((X_test.shape[0], lookback+1))\n",
        "dummies[:, 0] = y_test.flatten()\n",
        "dummies = scaler.inverse_transform(dummies)\n",
        "\n",
        "new_y_test = dc(dummies[:, 0])\n",
        "new_y_test"
      ]
    },
    {
      "cell_type": "code",
      "execution_count": 167,
      "id": "PhLmIlHOsSK4",
      "metadata": {
        "colab": {
          "base_uri": "https://localhost:8080/",
          "height": 449
        },
        "id": "PhLmIlHOsSK4",
        "outputId": "09c21535-ea22-4d65-bc50-b159bd4dc135"
      },
      "outputs": [
        {
          "data": {
            "image/png": "[encoded data removed]",
            "text/plain": [
              "<Figure size 640x480 with 1 Axes>"
            ]
          },
          "metadata": {},
          "output_type": "display_data"
        }
      ],
      "source": [
        "plt.plot(new_y_test, label='Actual Close')\n",
        "plt.plot(test_predictions, label='Predicted Close')\n",
        "plt.xlabel('Day')\n",
        "plt.ylabel('Close')\n",
        "plt.legend()\n",
        "plt.show()\n"
      ]
    },
    {
      "cell_type": "code",
      "execution_count": 168,
      "id": "-CuelDg2seDP",
      "metadata": {
        "id": "-CuelDg2seDP"
      },
      "outputs": [
        {
          "name": "stdout",
          "output_type": "stream",
          "text": [
            "Future 7 business days predictions:\n",
            "        Date  Predicted_Close\n",
            "0 2024-12-09        21.338289\n",
            "1 2024-12-10        21.279418\n",
            "2 2024-12-11        21.304830\n",
            "3 2024-12-12        21.353612\n",
            "4 2024-12-13        21.410724\n",
            "5 2024-12-16        21.466938\n",
            "6 2024-12-17        21.517735\n",
            "\n",
            "Model Performance Metrics:\n",
            "Training MSE: 0.0777\n",
            "Test MSE: 0.0884\n"
          ]
        },
        {
          "data": {
            "image/png": "[encoded data removed]",
            "text/plain": [
              "<Figure size 1200x600 with 1 Axes>"
            ]
          },
          "metadata": {},
          "output_type": "display_data"
        }
      ],
      "source": [
        "# Get the last 7 days of data to use as input for future predictions\n",
        "last_7_days = X_test[-1:].to(device)  # Shape: [1, 7, 1]\n",
        "\n",
        "# Generate future dates (skip weekends)\n",
        "last_date = data['Date'].iloc[-1]  # This is Friday, 2024-12-06\n",
        "future_dates = pd.bdate_range(start=last_date + pd.Timedelta(days=1), periods=7, freq='B')\n",
        "# This will give us the next 7 business days: Mon, Tue, Wed, Thu, Fri, Mon, Tue\n",
        "\n",
        "# Predict next 7 business days\n",
        "future_predictions = []\n",
        "current_input = last_7_days.clone()\n",
        "\n",
        "with torch.no_grad():\n",
        "    for _ in range(7):\n",
        "        # Get prediction for next day\n",
        "        next_pred = model(current_input)\n",
        "        future_predictions.append(next_pred.item())\n",
        "        \n",
        "        # Update input sequence by removing oldest prediction and adding new one\n",
        "        current_input = current_input.roll(-1, dims=1)\n",
        "        current_input[0, -1, 0] = next_pred\n",
        "\n",
        "# Convert predictions back to original scale\n",
        "dummy_array = np.zeros((len(future_predictions), lookback+1))\n",
        "dummy_array[:, 0] = future_predictions\n",
        "future_predictions_unscaled = scaler.inverse_transform(dummy_array)[:, 0]\n",
        "\n",
        "# Create prediction results dataframe\n",
        "future_df = pd.DataFrame({\n",
        "    'Date': future_dates,\n",
        "    'Predicted_Close': future_predictions_unscaled\n",
        "})\n",
        "\n",
        "print(\"Future 7 business days predictions:\")\n",
        "print(future_df)\n",
        "\n",
        "# Calculate and print MSE for training and test sets\n",
        "from sklearn.metrics import mean_squared_error\n",
        "\n",
        "train_mse = mean_squared_error(new_y_train, train_predictions)\n",
        "test_mse = mean_squared_error(new_y_test, test_predictions)\n",
        "\n",
        "print(\"\\nModel Performance Metrics:\")\n",
        "print(f\"Training MSE: {train_mse:.4f}\")\n",
        "print(f\"Test MSE: {test_mse:.4f}\")\n",
        "\n",
        "# Plot historical + future predictions\n",
        "plt.figure(figsize=(12, 6))\n",
        "plt.plot(future_df['Date'], future_df['Predicted_Close'], 'r--', label='Future Predictions')\n",
        "plt.xlabel('Date')\n",
        "plt.ylabel('Close Price')\n",
        "plt.title('Stock Price Prediction - Next 7 Business Days')\n",
        "plt.legend()\n",
        "plt.xticks(rotation=45)\n",
        "plt.tight_layout()\n",
        "plt.show()"
      ]
    }
  ],
  "metadata": {
    "colab": {
      "gpuType": "T4",
      "provenance": []
    },
    "gpuClass": "standard",
    "kernelspec": {
      "display_name": "Python 3",
      "name": "python3"
    },
    "language_info": {
      "codemirror_mode": {
        "name": "ipython",
        "version": 3
      },
      "file_extension": ".py",
      "mimetype": "text/x-python",
      "name": "python",
      "nbconvert_exporter": "python",
      "pygments_lexer": "ipython3",
      "version": "3.9.20"
    }
  },
  "nbformat": 4,
  "nbformat_minor": 5
}
